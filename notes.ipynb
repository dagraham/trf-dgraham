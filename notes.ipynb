{
 "cells": [
  {
   "cell_type": "markdown",
   "metadata": {},
   "source": [
    "## TODO\n",
    "\n"
   ]
  },
  {
   "cell_type": "raw",
   "metadata": {
    "vscode": {
     "languageId": "raw"
    }
   },
   "source": [
    "### the list view for lorem examples ###\n",
    "‌ tag   forecast  η spread   latest   name\n",
    " a    24-09-30  ±1d9h      24-09-22   # Modi ipsum magnam\n",
    " b    24-09-30  ±2d22h     24-09-22   # Ipsum numquam eius\n",
    " c    24-09-30  ±2d18h     24-09-23   # Voluptatem non\n",
    " d    24-10-01     ~       24-09-23   # Modi est\n",
    " e    24-10-01  ±4d9h      24-09-23   # Numquam voluptatem porro\n",
    " f    24-10-03  ±3d21h     24-09-23   # Voluptatem modi eius\n",
    " g    24-10-03  ±2d14h     24-09-23   # Ipsum modi\n",
    " h    24-10-03  ±3d22h     24-09-23   # Numquam quisquam\n",
    " i    24-10-03  ±2d14h     24-09-26   # Consectetur tempora\n",
    " j    24-10-03  ±5d8h      24-09-23   # Ipsum numquam aliquam\n",
    " k    24-10-03  ±2d17h     24-09-23   # Porro consectetur\n",
    " l    24-10-04  ±2d21h     24-09-27   # Magnam dolore dolore\n",
    " m    24-10-05  ±3d4h      24-09-28   # Est neque magnam\n",
    " n    24-10-06  ±6d4h      24-09-28   # Sit quisquam\n",
    " o    24-10-06  ±9d10h     24-09-21   # Magnam non adipisci\n",
    " p    24-10-07  ±3d13h     24-09-29   # Quaerat aliquam\n",
    " q    24-10-07  ±3d14h     24-09-23   # Consectetur modi etincidunt\n",
    " r    24-10-07  ±3d14h     24-09-23   # Sed quaerat dolorem\n",
    " s    24-10-07  ±7d10h     24-09-22   # Quiquia est\n",
    " t    24-10-08  ±5d22h     24-09-28   # Tempora quisquam\n",
    " u    24-10-08  ±5d4h      24-09-28   # Dolore quisquam\n",
    " v    24-10-08  ±4d1h      24-09-28   # Ipsum dolorem\n",
    " w    24-10-09  ±4d23h     24-09-28   # Ipsum quiquia\n",
    " x    24-10-10  ±18h       24-10-03   # Dolore sit\n",
    " y    24-10-10  ±3d16h     24-10-03   # Amet quaerat porro\n",
    " z    24-10-10  ±1d6h      24-10-03   # Porro non"
   ]
  },
  {
   "cell_type": "code",
   "execution_count": null,
   "metadata": {},
   "outputs": [],
   "source": [
    "# Example methods\n",
    "def method1(arg1, arg2):\n",
    "    print(f\"Method 1 called with {arg1} and {arg2}\")\n",
    "\n",
    "def method2(arg1, arg2):\n",
    "    print(f\"Method 2 called with {arg1} and {arg2}\")\n",
    "\n",
    "# Dictionary with methods as keys\n",
    "method_dict = {\n",
    "    method1: \"This is method 1\",\n",
    "    method2: \"This is method 2\"\n",
    "}\n",
    "\n",
    "# Access the value for each method\n",
    "print(method_dict[method1])  # Outputs: This is method 1\n",
    "print(method_dict[method2])  # Outputs: This is method 2\n",
    "\n",
    "# You can still run the methods normally\n",
    "methods = [method1, method2]\n",
    "for method in methods:\n",
    "    method('arg1_value', 'arg2_value')\n"
   ]
  },
  {
   "cell_type": "code",
   "execution_count": null,
   "metadata": {},
   "outputs": [],
   "source": [
    "def run_methods(methods_with_args):\n",
    "    for method, args in methods_with_args.items():\n",
    "        method(*args)  # Execute the method with the associated arguments\n",
    "\n",
    "# Define methods and their corresponding arguments in a dictionary\n",
    "methods_with_args = {\n",
    "    method1: ('arg1_value', 'arg2_value'),\n",
    "    method2: ('another_arg1', 'another_arg2'),\n",
    "}\n",
    "\n",
    "# Run methods in a loop\n",
    "run_methods(methods_with_args)\n"
   ]
  },
  {
   "cell_type": "code",
   "execution_count": 2,
   "metadata": {},
   "outputs": [
    {
     "name": "stdout",
     "output_type": "stream",
     "text": [
      "Method 1 called with arg1_value and arg2_value\n",
      "Method 2 called with arg1_value and arg2_value\n"
     ]
    }
   ],
   "source": [
    "def run_methods(methods, *args):\n",
    "    for method in methods:\n",
    "        method(*args)  # Execute each method with the provided arguments\n",
    "\n",
    "# Example methods\n",
    "def method1(arg1, arg2):\n",
    "    print(f\"Method 1 called with {arg1} and {arg2}\")\n",
    "\n",
    "def method2(arg1, arg2):\n",
    "    print(f\"Method 2 called with {arg1} and {arg2}\")\n",
    "\n",
    "# List of method references\n",
    "methods = [method1, method2]\n",
    "\n",
    "# Run all methods in a loop\n",
    "run_methods(methods, 'arg1_value', 'arg2_value')\n"
   ]
  },
  {
   "cell_type": "raw",
   "metadata": {
    "vscode": {
     "languageId": "raw"
    }
   },
   "source": [
    "class Dialog:\n",
    "    dispatch = {\n",
    "        # key_press: (needs_selection, handler)\n",
    "        'n': (False, handle_new)\n",
    "    }\n",
    "    def __init__(self, action)\n"
   ]
  },
  {
   "cell_type": "code",
   "execution_count": 5,
   "metadata": {},
   "outputs": [
    {
     "name": "stdout",
     "output_type": "stream",
     "text": [
      "1001 late 2024-08-29 19:00; 2024-09-08 06:00; 2024-09-18 19:00\n",
      "1002 due 2024-09-02 16:00; 2024-09-12 03:00; 2024-09-22 16:00\n",
      "1003 early 2024-09-08 18:00; 2024-09-18 05:00; 2024-09-28 18:00\n",
      "1004 only one 2024-09-21 11:00\n",
      "1005 none \n"
     ]
    }
   ],
   "source": [
    "### SAVE THIS ###\n",
    "from datetime import datetime, date, timedelta\n",
    "\n",
    "def make_screenshot_examples():\n",
    "    now = datetime.now().replace(microsecond=0,second=0,minute=0,hour=0)\n",
    "    # for histories we need intervals 1 and 2 that\n",
    "    # |i1 - (i1 + i2)/2| = |i2 - i1|/2\n",
    "    # |i2 - (i1 + i2)/2| = |i1 - i2|/2\n",
    "    # mad = (|i2 - i1|/2)*2/2 = |i2 - i1|/2\n",
    "    # => mad = 1d2h => i2-i1\n",
    "    # avg = (i1 + i2)/2 = 10d  = i2 - i1 = 20d - 2*i1 = 1d2h\n",
    "    # 2*i1 = 20d - 1d2h = 18d22h => i1 = 9d11h\n",
    "    # => i2 = 1d2h + 9d11h = 10d13h\n",
    "    i1 = timedelta(days=9, hours=11)\n",
    "    i2 = timedelta(days=10, hours=13)\n",
    "    latef = now - timedelta(days=13, hours=5)\n",
    "    late1 = latef - i1 - i2\n",
    "    late2 = latef - i2\n",
    "    duef = now - timedelta(days=9,hours=8)\n",
    "    due1 = duef - i1 - i2\n",
    "    due2 = duef - i2\n",
    "    earlyf = now - timedelta(days=3, hours=6)\n",
    "    early1 = earlyf - i1 - i2\n",
    "    early2 = earlyf - i2\n",
    "    onlyone1 = now - i2\n",
    "\n",
    "\n",
    "    egs = [\n",
    "        (1001, 'late', [late1, late2, latef]),\n",
    "        (1002, 'due', [due1, due2, duef]),\n",
    "        (1003, 'early', [early1, early2, earlyf]),\n",
    "        (1004, 'only one', [onlyone1]),\n",
    "        (1005, 'none', [])\n",
    "    ]\n",
    "\n",
    "    for eg in egs:\n",
    "        dates = \"; \".join([d.strftime(\"%Y-%m-%d %H:%M\") for d in eg[2]])\n",
    "        print(eg[0], eg[1], dates)\n",
    "\n",
    "make_screenshot_examples()"
   ]
  },
  {
   "cell_type": "code",
   "execution_count": null,
   "metadata": {},
   "outputs": [],
   "source": [
    "       elif self.action_type == \"settings\":\n",
    "            self.message_control.text = \" Edit settings. \\nPress 'enter' to save changes or '^c' to cancel\"\n",
    "            settings_map = self.tracker_manager.settings\n",
    "            yaml_string = StringIO()\n",
    "            # Step 2: Dump the CommentedMap into the StringIO object\n",
    "            yaml.dump(settings_map, yaml_string)\n",
    "            # Step 3: Get the string from the StringIO object\n",
    "            yaml_output = yaml_string.getvalue()\n",
    "            input_area.text = yaml_output\n",
    "            self.app.layout.focus(input_area)\n",
    "            input_area.accept_handler = lambda buffer: self.handle_settings()\n",
    "            self.kb.add('enter')(self.handle_settings)\n",
    "            self.kb.add('escape', eager=True)(self.handle_cancel)\n",
    "\n",
    "       def handle_settings(self, event=None):\n",
    "        yaml_string = input_area.text\n",
    "        if yaml_string:\n",
    "            yaml_input = StringIO(yaml_string)\n",
    "            updated_settings = yaml.load(yaml_input)\n",
    "\n",
    "            # Step 2: Update the original CommentedMap with the new data\n",
    "            # This will overwrite only the changed values while keeping the structure.\n",
    "            self.tracker_manager.settings.update(updated_settings)\n",
    "            transaction.commit()\n",
    "            logger.debug(f\"updated settings:\\n{yaml_string}\")\n",
    "            self.close_dialog()\n",
    "        set_mode('menu')\n",
    "        list_trackers()\n",
    "        self.app.layout.focus(self.display_area)\n"
   ]
  }
 ],
 "metadata": {
  "kernelspec": {
   "display_name": "3.12",
   "language": "python",
   "name": "python3"
  },
  "language_info": {
   "codemirror_mode": {
    "name": "ipython",
    "version": 3
   },
   "file_extension": ".py",
   "mimetype": "text/x-python",
   "name": "python",
   "nbconvert_exporter": "python",
   "pygments_lexer": "ipython3",
   "version": "3.12.4"
  }
 },
 "nbformat": 4,
 "nbformat_minor": 2
}
